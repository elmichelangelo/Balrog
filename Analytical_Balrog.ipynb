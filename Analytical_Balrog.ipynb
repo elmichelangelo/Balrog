{
 "cells": [
  {
   "cell_type": "markdown",
   "source": [
    "# Importing libraries"
   ],
   "metadata": {
    "collapsed": false
   },
   "id": "594511d63ea2f388"
  },
  {
   "cell_type": "code",
   "outputs": [],
   "source": [
    "import matplotlib.pyplot as plt\n",
    "import numpy as np\n",
    "from Handler.cut_functions import *\n",
    "import sys\n",
    "import yaml\n",
    "import argparse\n",
    "import pandas as pd\n",
    "import os"
   ],
   "metadata": {
    "collapsed": false,
    "ExecuteTime": {
     "end_time": "2024-02-12T22:00:14.004200Z",
     "start_time": "2024-02-12T22:00:13.898685Z"
    }
   },
   "id": "130d17099dd4721e",
   "execution_count": 55
  },
  {
   "cell_type": "code",
   "outputs": [],
   "source": [
    "%matplotlib inline"
   ],
   "metadata": {
    "collapsed": false,
    "ExecuteTime": {
     "end_time": "2024-02-12T22:00:14.009494Z",
     "start_time": "2024-02-12T22:00:13.994044Z"
    }
   },
   "id": "27b508f1a76dc19d",
   "execution_count": 56
  },
  {
   "cell_type": "markdown",
   "source": [
    "# Set system path"
   ],
   "metadata": {
    "collapsed": false
   },
   "id": "3cc9f528ccf1f7de"
  },
  {
   "cell_type": "code",
   "outputs": [],
   "source": [
    "current_dir = os.getcwd()\n",
    "sys.path.append(current_dir)\n",
    "path = os.path.abspath(sys.path[-1])"
   ],
   "metadata": {
    "collapsed": false,
    "ExecuteTime": {
     "end_time": "2024-02-12T22:00:14.057746Z",
     "start_time": "2024-02-12T22:00:14.011721Z"
    }
   },
   "id": "1c1d38f97fd13984",
   "execution_count": 57
  },
  {
   "cell_type": "markdown",
   "source": [
    "# Reading the configuration file"
   ],
   "metadata": {
    "collapsed": false
   },
   "id": "43169012671e7882"
  },
  {
   "cell_type": "code",
   "outputs": [],
   "source": [
    "if get_os() == \"Mac\":\n",
    "    config_file_name = \"mac.cfg\"\n",
    "elif get_os() == \"Windows\":\n",
    "    config_file_name = \"windows.cfg\"\n",
    "elif get_os() == \"Linux\":\n",
    "    config_file_name = \"LMU.cfg\"\n",
    "else:\n",
    "    raise f\"OS Error: {get_os()}\"\n",
    "\n",
    "parser = argparse.ArgumentParser(description='Start create balrog training dataset')\n",
    "parser.add_argument(\n",
    "    '--config_filename',\n",
    "    \"-cf\",\n",
    "    type=str,\n",
    "    nargs=1,\n",
    "    required=False,\n",
    "    default=config_file_name,\n",
    "    help='Name of config file'\n",
    ")\n",
    "args, unknown = parser.parse_known_args()\n",
    "\n",
    "if isinstance(args.config_filename, list):\n",
    "    args.config_filename = args.config_filename[0]\n",
    "\n",
    "with open(f\"{path}/config/{args.config_filename}\", 'r') as fp:\n",
    "    cfg = yaml.load(fp, Loader=yaml.Loader)"
   ],
   "metadata": {
    "collapsed": false,
    "ExecuteTime": {
     "end_time": "2024-02-12T22:00:14.092071Z",
     "start_time": "2024-02-12T22:00:14.027673Z"
    }
   },
   "id": "2d4954400a778696",
   "execution_count": 58
  },
  {
   "cell_type": "markdown",
   "source": [
    "# Add some functions"
   ],
   "metadata": {
    "collapsed": false
   },
   "id": "f3955979a21437c7"
  },
  {
   "cell_type": "code",
   "outputs": [],
   "source": [
    "def apply_cuts(cfg, data_frame):\n",
    "    \"\"\"\"\"\"\n",
    "    data_frame = unsheared_object_cuts(data_frame=data_frame)\n",
    "    data_frame = flag_cuts(data_frame=data_frame)\n",
    "    data_frame = unsheared_shear_cuts(data_frame=data_frame)\n",
    "    data_frame = binary_cut(data_frame=data_frame)\n",
    "    data_frame = mask_cut(data_frame=data_frame, master=f\"{cfg['PATH_DATA']}/{cfg['FILENAME_MASTER_CAT']}\")\n",
    "    # if cfg[\"MOCK_APPLY_MAG_CUTS_BEFORE\"] is True:\n",
    "    data_frame = unsheared_mag_cut(data_frame=data_frame)\n",
    "    return data_frame"
   ],
   "metadata": {
    "collapsed": false,
    "ExecuteTime": {
     "end_time": "2024-02-12T22:00:14.093734Z",
     "start_time": "2024-02-12T22:00:14.067261Z"
    }
   },
   "id": "2755f8655aa99ec1",
   "execution_count": 59
  },
  {
   "cell_type": "code",
   "outputs": [],
   "source": [
    "def iqr(x):\n",
    "    return x.quantile(0.75) - x.quantile(0.25)"
   ],
   "metadata": {
    "collapsed": false,
    "ExecuteTime": {
     "end_time": "2024-02-12T22:00:14.112527Z",
     "start_time": "2024-02-12T22:00:14.096509Z"
    }
   },
   "id": "2e7bab5f0752a07",
   "execution_count": 60
  },
  {
   "cell_type": "markdown",
   "source": [
    "# Data Preprocessing"
   ],
   "metadata": {
    "collapsed": false
   },
   "id": "55694cd15965d82a"
  },
  {
   "cell_type": "markdown",
   "source": [
    "## Load Data"
   ],
   "metadata": {
    "collapsed": false
   },
   "id": "4e01b3878abc3750"
  },
  {
   "cell_type": "code",
   "outputs": [],
   "source": [
    "df_balrog = open_all_balrog_dataset(f\"{cfg['PATH_DATA']}/{cfg['FILENAME_MERGED_CAT']}\")\n",
    "df_balrog = df_balrog[df_balrog[\"detected\"] == 1]\n",
    "df_balrog.rename(columns={\"ID\": \"true_id\"}, inplace=True)\n",
    "print(df_balrog)"
   ],
   "metadata": {
    "collapsed": false,
    "is_executing": true,
    "ExecuteTime": {
     "start_time": "2024-02-12T22:00:14.115711Z"
    }
   },
   "id": "ba1d9af2fcce73ae",
   "execution_count": null
  },
  {
   "cell_type": "markdown",
   "source": [
    "## Apply cuts"
   ],
   "metadata": {
    "collapsed": false
   },
   "id": "4b07e598caee5e8a"
  },
  {
   "cell_type": "code",
   "outputs": [],
   "source": [
    "df_balrog_cut = apply_cuts(cfg=cfg, data_frame=df_balrog)"
   ],
   "metadata": {
    "collapsed": false,
    "is_executing": true
   },
   "id": "e56c3f0cf2615b7e",
   "execution_count": null
  },
  {
   "cell_type": "markdown",
   "source": [
    "## Calculate colors"
   ],
   "metadata": {
    "collapsed": false
   },
   "id": "189b840ff11af01a"
  },
  {
   "cell_type": "code",
   "outputs": [],
   "source": [
    "df_balrog = calc_color(\n",
    "    cfg=cfg,\n",
    "    data_frame=df_balrog,\n",
    "    mag_type=(\"MAG\", \"BDF\"),\n",
    "    flux_col=(\"BDF_FLUX_DERED_CALIB\", \"BDF_FLUX_ERR_DERED_CALIB\"),\n",
    "    mag_col=(\"BDF_MAG_DERED_CALIB\", \"BDF_MAG_ERR_DERED_CALIB\"),\n",
    "    bins=cfg['BDF_BINS'],\n",
    "    save_name=f\"bdf_mag\"\n",
    ")\n",
    "df_balrog = calc_color(\n",
    "    cfg=cfg,\n",
    "    data_frame=df_balrog,\n",
    "    mag_type=(\"MAG\", \"unsheared\"),\n",
    "    flux_col=(\"unsheared/flux\", \"unsheared/flux_err\"),\n",
    "    mag_col=(\"unsheared/mag\", \"unsheared/mag_err\"),\n",
    "    bins=cfg['UNSHEARED_BINS'],\n",
    "    save_name=f\"unsheared/mag\"\n",
    ")"
   ],
   "metadata": {
    "collapsed": false,
    "is_executing": true
   },
   "id": "dc06fa25165f6d44",
   "execution_count": null
  },
  {
   "cell_type": "markdown",
   "source": [
    "## Do some calculations"
   ],
   "metadata": {
    "collapsed": false
   },
   "id": "3c23256850cb5f47"
  },
  {
   "cell_type": "code",
   "outputs": [],
   "source": [
    "df_balrog[\"BDF_G\"] = np.sqrt(df_balrog[\"BDF_G_0\"] ** 2 + df_balrog[\"BDF_G_1\"] ** 2)\n",
    "for bin in cfg[\"UNSHEARED_BINS\"]:\n",
    "    df_balrog[f\"flux_diff_{bin}\"] = df_balrog[f\"unsheared/flux_{bin}\"].values - df_balrog[f\"BDF_FLUX_DERED_CALIB_{bin.upper()}\"].values"
   ],
   "metadata": {
    "collapsed": false,
    "is_executing": true
   },
   "id": "da134279a1e05a50",
   "execution_count": null
  },
  {
   "cell_type": "markdown",
   "source": [
    "## Calculate offset"
   ],
   "metadata": {
    "collapsed": false
   },
   "id": "17da81d87acf4715"
  },
  {
   "cell_type": "code",
   "outputs": [],
   "source": [
    "bin_stats_r = plot_bin_offset(\n",
    "    data_frame=df_balrog,\n",
    "    true_column=\"BDF_MAG_DERED_CALIB_R\",\n",
    "    measured_column=\"unsheared/mag_r\",\n",
    "    color=\"#fc810a\",\n",
    "    save_name=f\"{cfg['PATH_OUTPUT']}/bin_offset_r.png\",\n",
    "    show_plot=cfg[\"SHOW_PLOT_MOCK\"],\n",
    "    save_plot=cfg[\"SAVE_PLOT_MOCK\"]\n",
    ")"
   ],
   "metadata": {
    "collapsed": false,
    "is_executing": true
   },
   "id": "90bbaa77702d0598",
   "execution_count": null
  },
  {
   "cell_type": "code",
   "outputs": [],
   "source": [
    "\n",
    "bin_stats_i = plot_bin_offset(\n",
    "    data_frame=df_balrog,\n",
    "    true_column=\"BDF_MAG_DERED_CALIB_I\",\n",
    "    measured_column=\"unsheared/mag_i\",\n",
    "    color=\"#1b78bc\",\n",
    "    save_name=f\"{cfg['PATH_OUTPUT']}/bin_offset_i.png\",\n",
    "    show_plot=cfg[\"SHOW_PLOT_MOCK\"],\n",
    "    save_plot=cfg[\"SAVE_PLOT_MOCK\"]\n",
    ")"
   ],
   "metadata": {
    "collapsed": false,
    "is_executing": true
   },
   "id": "eec378ed78e0031e",
   "execution_count": null
  },
  {
   "cell_type": "code",
   "outputs": [],
   "source": [
    "\n",
    "bin_stats_z = plot_bin_offset(\n",
    "    data_frame=df_balrog,\n",
    "    true_column=\"BDF_MAG_DERED_CALIB_Z\",\n",
    "    measured_column=\"unsheared/mag_z\",\n",
    "    color=\"#9463be\",\n",
    "    save_name=f\"{cfg['PATH_OUTPUT']}/bin_offset_z.png\",\n",
    "    show_plot=cfg[\"SHOW_PLOT_MOCK\"],\n",
    "    save_plot=cfg[\"SAVE_PLOT_MOCK\"]\n",
    ")"
   ],
   "metadata": {
    "collapsed": false,
    "is_executing": true
   },
   "id": "ec3b5f2973bda531",
   "execution_count": null
  },
  {
   "cell_type": "code",
   "outputs": [],
   "source": [
    "dict_offset = {\n",
    "        \"weighted_mean_mag_r\": bin_stats_r['weighted_mean'],\n",
    "        \"weighted_mean_mag_i\": bin_stats_i['weighted_mean'],\n",
    "        \"weighted_mean_mag_z\": bin_stats_z['weighted_mean'],\n",
    "        \"weighted_median_mag_r\": bin_stats_r['weighted_median'],\n",
    "        \"weighted_median_mag_i\": bin_stats_i['weighted_median'],\n",
    "        \"weighted_median_mag_z\": bin_stats_z['weighted_median'],\n",
    "        \"percent_deviation_mean_r\": bin_stats_r['percent_deviation_mean'],\n",
    "        \"percent_deviation_mean_i\": bin_stats_i['percent_deviation_mean'],\n",
    "        \"percent_deviation_mean_z\": bin_stats_z['percent_deviation_mean'],\n",
    "        \"percent_deviation_median_r\": bin_stats_r['percent_deviation_median'],\n",
    "        \"percent_deviation_median_i\": bin_stats_i['percent_deviation_median'],\n",
    "        \"percent_deviation_median_z\": bin_stats_z['percent_deviation_median']\n",
    "    }"
   ],
   "metadata": {
    "collapsed": false,
    "is_executing": true
   },
   "id": "508f49b93e1f864e",
   "execution_count": null
  },
  {
   "cell_type": "markdown",
   "source": [
    "## Calculate covariance"
   ],
   "metadata": {
    "collapsed": false
   },
   "id": "55734b5b589b49d7"
  },
  {
   "cell_type": "code",
   "outputs": [],
   "source": [
    "df_cov_difference = df_balrog[cfg[\"COVARIANCE_COLUMNS\"]]\n",
    "\n",
    "# Calculate the IQR for each column\n",
    "iqr_values = df_cov_difference.apply(iqr)\n",
    "iqr_values"
   ],
   "metadata": {
    "collapsed": false,
    "is_executing": true
   },
   "id": "27fc4a8d24fa476",
   "execution_count": null
  },
  {
   "cell_type": "code",
   "outputs": [],
   "source": [
    "# Create a DataFrame where each cell is the product of the IQRs of its row and column\n",
    "cov_matrix_difference = df_cov_difference.cov().values\n",
    "sns.heatmap(cov_matrix_difference, annot=True, fmt='g')\n",
    "plt.show()"
   ],
   "metadata": {
    "collapsed": false,
    "is_executing": true
   },
   "id": "ed732d6578b7d23d",
   "execution_count": null
  },
  {
   "cell_type": "code",
   "outputs": [],
   "source": [
    "cov_matrix_difference = pd.DataFrame(np.outer(iqr_values, iqr_values), columns=df_cov_difference.columns, index=df_cov_difference.columns)\n",
    "sns.heatmap(cov_matrix_difference, annot=True, fmt='g')\n",
    "plt.show()"
   ],
   "metadata": {
    "collapsed": false,
    "is_executing": true
   },
   "id": "e0b2447850b106a9",
   "execution_count": null
  },
  {
   "cell_type": "code",
   "outputs": [],
   "source": [
    "print(f\"covariance matrix deep distribution: {cov_matrix_difference}\")\n",
    "\n",
    "df_temp = df_balrog.copy()\n",
    "for idx_bin, bin in enumerate(cfg[\"UNSHEARED_BINS\"]):\n",
    "    df_temp.loc[:, f\"Color unsheared mag {bin}-{cfg['UNSHEARED_BINS'][idx_bin+1]}\"] = (\n",
    "            df_temp[f\"unsheared/mag_{bin}\"].values - df_temp[f\"unsheared/mag_{cfg['UNSHEARED_BINS'][idx_bin+1]}\"].values\n",
    "    )\n",
    "    if idx_bin + 1 == len(cfg[\"UNSHEARED_BINS\"]) - 1:\n",
    "        break"
   ],
   "metadata": {
    "collapsed": false,
    "is_executing": true
   },
   "id": "395e7abfff427ac3",
   "execution_count": null
  },
  {
   "cell_type": "code",
   "outputs": [],
   "source": [
    "if cfg[\"PLOT_TRUE_MEAS_MAG\"] is True:\n",
    "    plot_corner(\n",
    "        df_temp,\n",
    "        columns=[\n",
    "            \"unsheared/mag_r\",\n",
    "            \"unsheared/mag_i\",\n",
    "            \"unsheared/mag_z\",\n",
    "        ],\n",
    "        labels=[\"r\", \"i\", \"z\"],\n",
    "        title=\"True Measured Magnitude\",\n",
    "        ranges=None,\n",
    "        show_plot=cfg[\"SHOW_PLOT_MOCK\"],\n",
    "        save_plot=cfg[\"SAVE_PLOT_MOCK\"],\n",
    "        save_name=f\"{cfg['PATH_OUTPUT']}/true_meas_mag.png\"\n",
    "    )\n",
    "if cfg[\"PLOT_TRUE_MEAS_COLOR\"] is True:\n",
    "    plot_corner(\n",
    "        df_temp,\n",
    "        columns=[\n",
    "            \"Color unsheared mag r-i\",\n",
    "            \"Color unsheared mag i-z\"\n",
    "        ],\n",
    "        labels=[\"r-i\", \"i-z\"],\n",
    "        title=\"True Measured Color\",\n",
    "        ranges=None,\n",
    "        show_plot=cfg[\"SHOW_PLOT_MOCK\"],\n",
    "        save_plot=cfg[\"SAVE_PLOT_MOCK\"],\n",
    "        save_name=f\"{cfg['PATH_OUTPUT']}/true_meas_color.png\"\n",
    "    )"
   ],
   "metadata": {
    "collapsed": false,
    "is_executing": true
   },
   "id": "16917ab9b49843a4",
   "execution_count": null
  },
  {
   "cell_type": "markdown",
   "source": [
    "## Plotting"
   ],
   "metadata": {
    "collapsed": false
   },
   "id": "50e1f0e56c2f72b6"
  },
  {
   "cell_type": "code",
   "outputs": [],
   "source": [
    "sns.histplot(\n",
    "    x=df_balrog[\"unsheared/flux_r\"].values,\n",
    "    element=\"step\",\n",
    "    fill=False,\n",
    "    color=\"red\",\n",
    "    binwidth=50,\n",
    "    log_scale=(False, False),\n",
    "    stat=\"probability\",\n",
    "    label=f\"unsheared\"\n",
    ")\n",
    "sns.histplot(\n",
    "    x=df_balrog[\"flux_diff_r\"].values,\n",
    "    element=\"step\",\n",
    "    fill=False,\n",
    "    color=\"green\",\n",
    "    binwidth=50,\n",
    "    log_scale=(False, False),\n",
    "    stat=\"probability\",\n",
    "    label=f\"diff\"\n",
    ")\n",
    "sns.histplot(\n",
    "    x=df_balrog[\"BDF_FLUX_DERED_CALIB_R\"].values,\n",
    "    element=\"step\",\n",
    "    fill=False,\n",
    "    color=\"blue\",\n",
    "    binwidth=50,\n",
    "    log_scale=(False, False),\n",
    "    stat=\"probability\",\n",
    "    label=f\"BDF\"\n",
    ")\n",
    "plt.xlim(-1000, 1000)\n",
    "plt.legend()\n",
    "plt.show()"
   ],
   "metadata": {
    "collapsed": false,
    "is_executing": true
   },
   "id": "1674dc230ae6c5e7",
   "execution_count": null
  },
  {
   "cell_type": "code",
   "outputs": [],
   "source": [],
   "metadata": {
    "collapsed": false,
    "is_executing": true
   },
   "id": "66437c23b14ad1e9",
   "execution_count": null
  },
  {
   "cell_type": "code",
   "outputs": [],
   "source": [
    "sns.histplot(\n",
    "    x=df_balrog_cut[\"unsheared/flux_r\"].values,\n",
    "    element=\"step\",\n",
    "    fill=False,\n",
    "    color=\"red\",\n",
    "    binwidth=50,\n",
    "    log_scale=(False, False),\n",
    "    stat=\"probability\",\n",
    "    label=f\"unsheared\"\n",
    ")\n",
    "sns.histplot(\n",
    "    x=df_balrog_cut[\"flux_diff_r\"].values,\n",
    "    element=\"step\",\n",
    "    fill=False,\n",
    "    color=\"green\",\n",
    "    binwidth=50,\n",
    "    log_scale=(False, False),\n",
    "    stat=\"probability\",\n",
    "    label=f\"diff\"\n",
    ")\n",
    "sns.histplot(\n",
    "    x=df_balrog_cut[\"BDF_FLUX_DERED_CALIB_R\"].values,\n",
    "    element=\"step\",\n",
    "    fill=False,\n",
    "    color=\"blue\",\n",
    "    binwidth=50,\n",
    "    log_scale=(False, False),\n",
    "    stat=\"probability\",\n",
    "    label=f\"BDF\"\n",
    ")\n",
    "plt.xlim(-1000, 1000)\n",
    "plt.legend()\n",
    "plt.show()"
   ],
   "metadata": {
    "collapsed": false,
    "is_executing": true
   },
   "id": "9f25f2eeb365be1c",
   "execution_count": null
  },
  {
   "cell_type": "code",
   "outputs": [],
   "source": [
    "if cfg[\"PLOT_MOCK_NOISE\"] is True:\n",
    "    plot_histo(\n",
    "        data_frame=df_balrog,\n",
    "        columns=cfg[\"COVARIANCE_COLUMNS\"],\n",
    "        colors=None,\n",
    "        bin_size=50,\n",
    "        log_scale=(False, True),\n",
    "        show_plot=cfg[\"SHOW_PLOT_MOCK\"],\n",
    "        save_plot=cfg[\"SAVE_PLOT_MOCK\"],\n",
    "        xlabel=\"mag\",\n",
    "        save_name=f\"{cfg['PATH_OUTPUT']}/noise_true_hist.png\",\n",
    "        title=f\"Noise Histogram\"\n",
    "    )\n",
    "    \n",
    "# df_balrog = df_balrog[cfg[\"SOMPZ_COLS\"]+cfg[\"COVARIANCE_COLUMNS\"]]"
   ],
   "metadata": {
    "collapsed": false,
    "is_executing": true
   },
   "id": "f917697f84a02666",
   "execution_count": null
  },
  {
   "cell_type": "code",
   "outputs": [],
   "source": [
    "\n",
    "print(df_balrog)\n",
    "print(df_balrog.isna().sum())\n",
    "print(df_balrog.isna().sum().sum())"
   ],
   "metadata": {
    "collapsed": false,
    "is_executing": true
   },
   "id": "22bb39bbfea32177",
   "execution_count": null
  },
  {
   "cell_type": "code",
   "outputs": [],
   "source": [
    "size = cfg[\"SIZE_MOCK\"]\n",
    "\n",
    "df_diff = df_balrog[cfg[\"COVARIANCE_COLUMNS\"]]\n",
    "arr_mean_diff = np.zeros(len(cfg[\"COVARIANCE_COLUMNS\"]))  # df_diff.mean().values\n",
    "\n",
    "arr_multi_normal_diff = np.random.multivariate_normal(\n",
    "    arr_mean_diff,\n",
    "    cov_matrix_difference,\n",
    "    df_diff.shape[0]\n",
    ")"
   ],
   "metadata": {
    "collapsed": false,
    "is_executing": true
   },
   "id": "c9cd215c5e848bec",
   "execution_count": null
  },
  {
   "cell_type": "code",
   "outputs": [],
   "source": [
    "df_mock = pd.DataFrame(\n",
    "    arr_multi_normal_diff,\n",
    "    columns=cfg[\"COVARIANCE_COLUMNS\"]\n",
    ")\n",
    "if cfg[\"PLOT_MOCK_NOISE\"] is True:\n",
    "    plot_histo(\n",
    "        data_frame=df_mock,\n",
    "        columns=cfg[\"COVARIANCE_COLUMNS\"],\n",
    "        colors=None,\n",
    "        bin_size=50,\n",
    "        log_scale=(False, False),\n",
    "        show_plot=cfg[\"SHOW_PLOT_MOCK\"],\n",
    "        save_plot=cfg[\"SAVE_PLOT_MOCK\"],\n",
    "        xlabel=\"mag\",\n",
    "        save_name=f\"{cfg['PATH_OUTPUT']}/noise_hist.png\",\n",
    "        title=f\"Noise Histogram\"\n",
    "    )\n"
   ],
   "metadata": {
    "collapsed": false,
    "is_executing": true
   },
   "id": "2555d435b1711965",
   "execution_count": null
  },
  {
   "cell_type": "code",
   "outputs": [],
   "source": [
    "# df_mock[\"unsheared/flux_err_r\"] = df_true[\"unsheared/flux_err_r\"]\n",
    "# df_mock[\"unsheared/flux_err_i\"] = df_true[\"unsheared/flux_err_i\"]\n",
    "# df_mock[\"unsheared/flux_err_z\"] = df_true[\"unsheared/flux_err_z\"]\n",
    "\n",
    "for idx_bin, bin in enumerate(cfg[\"UNSHEARED_BINS\"]):\n",
    "    new_val = df_balrog[f\"BDF_FLUX_DERED_CALIB_{bin.upper()}\"].values * 10 ** (-0.4 * dict_offset[f\"weighted_mean_mag_{bin}\"]) + df_mock[f\"flux_diff_{bin}\"].values\n",
    "\n",
    "    # Check if new_val is smaller than min_val, if so, set to min_val\n",
    "    df_mock[f\"unsheared/flux_{bin}\"] = new_val  # np.where(new_val < min_val, min_val, new_val)\n",
    "\n",
    "    df_mock[f\"unsheared/mag_{bin}\"] = flux2mag(df_mock[f\"unsheared/flux_{bin}\"].values)\n",
    "    df_mock[f\"BDF_FLUX_DERED_CALIB_{bin.upper()}\"] = df_balrog[f\"BDF_FLUX_DERED_CALIB_{bin.upper()}\"].values\n",
    "    df_mock[f\"BDF_MAG_DERED_CALIB_{bin.upper()}\"] = flux2mag(df_balrog[f\"BDF_FLUX_DERED_CALIB_{bin.upper()}\"].values)\n",
    "\n",
    "    df_balrog[f\"unsheared/mag_{bin}\"] = flux2mag(df_balrog[f\"unsheared/flux_{bin}\"].values)"
   ],
   "metadata": {
    "collapsed": false,
    "is_executing": true
   },
   "id": "e87bac6cae923044",
   "execution_count": null
  },
  {
   "cell_type": "code",
   "outputs": [],
   "source": [
    "for idx_bin, bin in enumerate(cfg[\"UNSHEARED_BINS\"]):\n",
    "    df_mock.loc[:, f\"Color unsheared mag {bin}-{cfg['UNSHEARED_BINS'][idx_bin+1]}\"] = (\n",
    "            df_mock[f\"unsheared/mag_{bin}\"].values - df_mock[f\"unsheared/mag_{cfg['UNSHEARED_BINS'][idx_bin+1]}\"].values\n",
    "    )\n",
    "    if idx_bin + 1 == len(cfg[\"UNSHEARED_BINS\"]) - 1:\n",
    "        break"
   ],
   "metadata": {
    "collapsed": false,
    "is_executing": true
   },
   "id": "298f4eb48a3cfd42",
   "execution_count": null
  },
  {
   "cell_type": "code",
   "outputs": [],
   "source": [
    "print(f\"len generated data: {len(df_mock)}\")\n",
    "print(f\"len true data: {len(df_balrog)}\")\n",
    "df_mock = df_mock.reset_index(drop=True)\n",
    "df_true = df_balrog.reset_index(drop=True)\n",
    "\n",
    "# df_mock = add_needed_columns(\n",
    "#     data_frame_mock=df_mock,\n",
    "#     df_true=df_true\n",
    "# )"
   ],
   "metadata": {
    "collapsed": false,
    "is_executing": true
   },
   "id": "6bf16376ef59913a",
   "execution_count": null
  },
  {
   "cell_type": "code",
   "outputs": [],
   "source": [
    "sns.histplot(\n",
    "    x=df_mock[\"unsheared/flux_r\"].values,\n",
    "    element=\"step\",\n",
    "    fill=False,\n",
    "    color=\"red\",\n",
    "    binwidth=50,\n",
    "    log_scale=(False, False),\n",
    "    stat=\"probability\",\n",
    "    label=f\"mock unsheared flux\"\n",
    ")\n",
    "sns.histplot(\n",
    "    x=df_true[\"unsheared/flux_r\"].values,\n",
    "    element=\"step\",\n",
    "    fill=False,\n",
    "    color=\"blue\",\n",
    "    binwidth=50,\n",
    "    log_scale=(False, False),\n",
    "    stat=\"probability\",\n",
    "    label=f\"true unsheared flux\"\n",
    ")\n",
    "sns.histplot(\n",
    "    x=df_true[\"BDF_FLUX_DERED_CALIB_R\"].values,\n",
    "    element=\"step\",\n",
    "    fill=False,\n",
    "    color=\"green\",\n",
    "    binwidth=50,\n",
    "    log_scale=(False, False),\n",
    "    stat=\"probability\",\n",
    "    label=f\"deep flux\"\n",
    ")\n",
    "plt.xlim(-500, 2000)\n",
    "plt.legend()\n",
    "plt.show()"
   ],
   "metadata": {
    "collapsed": false,
    "is_executing": true
   },
   "id": "e64012f764cc5efb",
   "execution_count": null
  },
  {
   "cell_type": "code",
   "outputs": [],
   "source": [
    "df_mock = apply_cuts(cfg=cfg, data_frame=df_mock)\n",
    "df_true = apply_cuts(cfg=cfg, data_frame=df_true)\n",
    "# if cfg[\"MOCK_APPLY_MAG_CUTS_BEFORE\"] is False:\n",
    "#     print(\"Apply mag cuts\")\n",
    "#     df_mock = unsheared_mag_cut(data_frame=df_mock)\n",
    "#     df_true = unsheared_mag_cut(data_frame=df_true)"
   ],
   "metadata": {
    "collapsed": false,
    "is_executing": true
   },
   "id": "8855cf3098c9d029",
   "execution_count": null
  },
  {
   "cell_type": "code",
   "outputs": [],
   "source": [
    "\n",
    "sns.histplot(\n",
    "    x=df_mock[\"unsheared/mag_r\"].values,\n",
    "    element=\"step\",\n",
    "    fill=False,\n",
    "    color=\"red\",\n",
    "    binwidth=0.25,\n",
    "    log_scale=(False, True),\n",
    "    stat=\"probability\",\n",
    "    label=f\"mock unsheared mag\"\n",
    ")\n",
    "sns.histplot(\n",
    "    x=df_true[\"unsheared/mag_r\"].values,\n",
    "    element=\"step\",\n",
    "    fill=False,\n",
    "    color=\"blue\",\n",
    "    binwidth=0.25,\n",
    "    log_scale=(False, True),\n",
    "    stat=\"probability\",\n",
    "    label=f\"true unsheared mag\"\n",
    ")\n",
    "sns.histplot(\n",
    "    x=df_true[\"BDF_MAG_DERED_CALIB_R\"].values,\n",
    "    element=\"step\",\n",
    "    fill=False,\n",
    "    color=\"green\",\n",
    "    binwidth=0.25,\n",
    "    log_scale=(False, True),\n",
    "    stat=\"probability\",\n",
    "    label=f\"deep mag\"\n",
    ")\n",
    "# plt.xlim(-60000, 60000)\n",
    "plt.legend()\n",
    "plt.show()"
   ],
   "metadata": {
    "collapsed": false,
    "is_executing": true
   },
   "id": "81ed429b8fce1101",
   "execution_count": null
  },
  {
   "cell_type": "code",
   "outputs": [],
   "source": [],
   "metadata": {
    "collapsed": false,
    "is_executing": true
   },
   "id": "6d218c60dbe588b8"
  }
 ],
 "metadata": {
  "kernelspec": {
   "display_name": "Python 3",
   "language": "python",
   "name": "python3"
  },
  "language_info": {
   "codemirror_mode": {
    "name": "ipython",
    "version": 2
   },
   "file_extension": ".py",
   "mimetype": "text/x-python",
   "name": "python",
   "nbconvert_exporter": "python",
   "pygments_lexer": "ipython2",
   "version": "2.7.6"
  }
 },
 "nbformat": 4,
 "nbformat_minor": 5
}
